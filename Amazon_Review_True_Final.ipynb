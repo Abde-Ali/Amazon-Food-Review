{
  "nbformat": 4,
  "nbformat_minor": 0,
  "metadata": {
    "colab": {
      "provenance": [],
      "mount_file_id": "1Ybx1R8Snj7Rfngqt1oXsrI0KpisySUuL",
      "authorship_tag": "ABX9TyMCtWBoPLE+y+SWKZLSJXJS",
      "include_colab_link": true
    },
    "kernelspec": {
      "name": "python3",
      "display_name": "Python 3"
    },
    "language_info": {
      "name": "python"
    }
  },
  "cells": [
    {
      "cell_type": "markdown",
      "metadata": {
        "id": "view-in-github",
        "colab_type": "text"
      },
      "source": [
        "<a href=\"https://colab.research.google.com/github/Abde-Ali/Amazon-Food-Review/blob/main/Amazon_Review_True_Final.ipynb\" target=\"_parent\"><img src=\"https://colab.research.google.com/assets/colab-badge.svg\" alt=\"Open In Colab\"/></a>"
      ]
    },
    {
      "cell_type": "code",
      "source": [
        "import pandas as pd\n",
        "import numpy as np\n",
        "from sklearn.model_selection import train_test_split\n",
        "from sklearn.feature_extraction.text import TfidfVectorizer\n",
        "df = pd.read_csv(\"/content/drive/MyDrive/Colab Notebooks/MachineLearning Projects/Reviews.csv\")"
      ],
      "metadata": {
        "id": "EJhW56oi4_wV"
      },
      "execution_count": 2,
      "outputs": []
    },
    {
      "cell_type": "code",
      "source": [
        "df['Sentiment'] = df['Score'].apply(lambda x: 0 if x<3 else 1)\n",
        "sorted = df.sort_values(\"ProductId\", axis=0,ascending=True,inplace=False, kind='quicksort', na_position='last')\n",
        "data = sorted.drop_duplicates(subset={\"UserId\",\"ProfileName\",\"Time\",\"ReviewText\"},keep='first',inplace=False)\n",
        "data.shape"
      ],
      "metadata": {
        "colab": {
          "base_uri": "https://localhost:8080/"
        },
        "id": "Vg8GlvCE5FVa",
        "outputId": "2b3978ae-083b-4050-d9de-9f59c106f728"
      },
      "execution_count": 3,
      "outputs": [
        {
          "output_type": "execute_result",
          "data": {
            "text/plain": [
              "(393758, 10)"
            ]
          },
          "metadata": {},
          "execution_count": 3
        }
      ]
    },
    {
      "cell_type": "code",
      "source": [
        "#Preprocessing\n",
        "import nltk\n",
        "nltk.download('stopwords')\n",
        "nltk.download('punkt')\n",
        "from nltk.corpus import stopwords\n",
        "import re\n",
        "from nltk.tokenize import word_tokenize\n",
        "\n",
        "from nltk.stem import PorterStemmer\n",
        "stemmer = PorterStemmer()\n",
        "\n",
        "eng_sw = stopwords.words('english')\n",
        "eng_sw = [w for w in eng_sw if w not in [\"not\",\"wasn't\",\"didn't\",\"haven't\",\"weren't\"] ]"
      ],
      "metadata": {
        "colab": {
          "base_uri": "https://localhost:8080/"
        },
        "id": "LEKIbX4a5GW9",
        "outputId": "6373b393-7386-463b-8f81-0396792d0703"
      },
      "execution_count": 4,
      "outputs": [
        {
          "output_type": "stream",
          "name": "stderr",
          "text": [
            "[nltk_data] Downloading package stopwords to /root/nltk_data...\n",
            "[nltk_data]   Unzipping corpora/stopwords.zip.\n",
            "[nltk_data] Downloading package punkt to /root/nltk_data...\n",
            "[nltk_data]   Unzipping tokenizers/punkt.zip.\n"
          ]
        }
      ]
    },
    {
      "cell_type": "code",
      "source": [
        "def preprocessing(text):\n",
        "  #text = text.lower()\n",
        "  text = re.sub(r'[^A-z]', '', str(text)).lower()\n",
        "  tokens = word_tokenize(text)\n",
        "  tokens = [w for w in tokens if w not in eng_sw]\n",
        "  tokens = [stemmer.stem(w) for w in tokens]\n",
        "  return\" \".join(tokens)"
      ],
      "metadata": {
        "id": "U2d-mIEI5RXO"
      },
      "execution_count": 5,
      "outputs": []
    },
    {
      "cell_type": "code",
      "source": [
        "df_sample = data.sample(n=50000)\n",
        "df_sample[\"ProccessedSummary\"] = df_sample['ReviewSummary'].apply(preprocessing)\n",
        "df_sample[\"ProccessedText\"] = df_sample[\"ReviewText\"].apply(preprocessing)"
      ],
      "metadata": {
        "id": "q2CBd-XW5uGL"
      },
      "execution_count": 6,
      "outputs": []
    },
    {
      "cell_type": "code",
      "source": [
        "tfidf = TfidfVectorizer(max_features=3000)\n",
        "x_num = df_sample[['HelpfulnessNumerator', 'HelpfulnessDenominator']]\n",
        "from sklearn.preprocessing import StandardScaler\n",
        "sc = StandardScaler()\n",
        "x_train_num = sc.fit_transform(x_num)"
      ],
      "metadata": {
        "id": "pOxcN-R4F9T4"
      },
      "execution_count": 7,
      "outputs": []
    },
    {
      "cell_type": "code",
      "source": [
        "x_text = tfidf.fit_transform(df_sample[\"ProccessedSummary\"])\n",
        "x_text1 = tfidf.fit_transform(df_sample[\"ProccessedText\"])"
      ],
      "metadata": {
        "id": "JD_0Ponm6ILe"
      },
      "execution_count": 8,
      "outputs": []
    },
    {
      "cell_type": "code",
      "source": [
        "data['Sentiment'] = data['Score'].apply(lambda x: 0 if x<3 else 1)\n",
        "x = np.hstack([x_text.toarray(),x_text1.toarray(),x_train_num])\n",
        "y = df_sample[\"Sentiment\"]"
      ],
      "metadata": {
        "colab": {
          "base_uri": "https://localhost:8080/"
        },
        "id": "3MckXs3a6UOs",
        "outputId": "bf96d7b9-856c-4e5a-807b-47f722a38ea9"
      },
      "execution_count": 9,
      "outputs": [
        {
          "output_type": "stream",
          "name": "stderr",
          "text": [
            "<ipython-input-9-242779cde2ca>:1: SettingWithCopyWarning: \n",
            "A value is trying to be set on a copy of a slice from a DataFrame.\n",
            "Try using .loc[row_indexer,col_indexer] = value instead\n",
            "\n",
            "See the caveats in the documentation: https://pandas.pydata.org/pandas-docs/stable/user_guide/indexing.html#returning-a-view-versus-a-copy\n",
            "  data['Sentiment'] = data['Score'].apply(lambda x: 0 if x<3 else 1)\n"
          ]
        }
      ]
    },
    {
      "cell_type": "code",
      "source": [
        "print(x.shape,y.shape)"
      ],
      "metadata": {
        "colab": {
          "base_uri": "https://localhost:8080/"
        },
        "id": "Qts695sXKZ8X",
        "outputId": "6fd61292-6652-4800-f6f0-85d300cced55"
      },
      "execution_count": 10,
      "outputs": [
        {
          "output_type": "stream",
          "name": "stdout",
          "text": [
            "(50000, 6002) (50000,)\n"
          ]
        }
      ]
    },
    {
      "cell_type": "code",
      "source": [
        "x_train,x_test ,y_train, y_test = train_test_split(x,y,test_size=0.25)"
      ],
      "metadata": {
        "id": "0eFXyw3P6cWB"
      },
      "execution_count": 11,
      "outputs": []
    },
    {
      "cell_type": "code",
      "source": [
        "from sklearn.ensemble import RandomForestClassifier\n",
        "from sklearn.naive_bayes import MultinomialNB, GaussianNB\n",
        "from sklearn.tree import DecisionTreeClassifier\n",
        "from sklearn.linear_model import LogisticRegression\n",
        "mb = MultinomialNB()\n",
        "gb = GaussianNB()\n",
        "dt = DecisionTreeClassifier()\n",
        "lr = LogisticRegression(max_iter=1000)\n",
        "rfc=RandomForestClassifier()\n",
        "from sklearn.metrics import accuracy_score, f1_score, recall_score, precision_score, confusion_matrix"
      ],
      "metadata": {
        "id": "p-yY1XDT6kFw"
      },
      "execution_count": 14,
      "outputs": []
    },
    {
      "cell_type": "code",
      "source": [
        "lr.fit(x_train,y_train)\n",
        "y_pred_lr = lr.predict(x_test)"
      ],
      "metadata": {
        "id": "gmylOFHdAcBh"
      },
      "execution_count": 15,
      "outputs": []
    },
    {
      "cell_type": "code",
      "source": [
        "gb.fit(x_train,y_train)\n",
        "y_pred_gb = gb.predict(x_test)"
      ],
      "metadata": {
        "id": "bE8PIjweAjiC"
      },
      "execution_count": 16,
      "outputs": []
    },
    {
      "cell_type": "code",
      "source": [
        "dt.fit(x_train,y_train)\n",
        "y_pred_dt = dt.predict(x_test)"
      ],
      "metadata": {
        "id": "ZfkQ8jhIAzRd"
      },
      "execution_count": 18,
      "outputs": []
    },
    {
      "cell_type": "code",
      "source": [
        "rfc.fit(x_train,y_train)\n",
        "y_pred_rfc = rfc.predict(x_test)"
      ],
      "metadata": {
        "id": "d3Wo04bM6kev"
      },
      "execution_count": 19,
      "outputs": []
    },
    {
      "cell_type": "code",
      "source": [
        "print(f'accurarcy Score: {accuracy_score(y_test, y_pred_lr)}\\nprecision Score: {precision_score(y_test, y_pred_lr)}\\nRecall Score: {recall_score(y_test, y_pred_lr)}\\nF1 Score: {f1_score(y_test, y_pred_lr)}')"
      ],
      "metadata": {
        "colab": {
          "base_uri": "https://localhost:8080/"
        },
        "id": "BaFgTBRJ6kwX",
        "outputId": "81159f63-2dc2-4215-b093-b5dff8b4cf66"
      },
      "execution_count": 20,
      "outputs": [
        {
          "output_type": "stream",
          "name": "stdout",
          "text": [
            "accurarcy Score: 0.87976\n",
            "precision Score: 0.8837074463679284\n",
            "Recall Score: 0.9908060921248143\n",
            "F1 Score: 0.9341972768267589\n"
          ]
        }
      ]
    },
    {
      "cell_type": "code",
      "source": [
        "print(f'accurarcy Score: {accuracy_score(y_test, y_pred_dt)}\\nprecision Score: {precision_score(y_test, y_pred_dt)}\\nRecall Score: {recall_score(y_test, y_pred_dt)}\\nF1 Score: {f1_score(y_test, y_pred_dt)}')"
      ],
      "metadata": {
        "colab": {
          "base_uri": "https://localhost:8080/"
        },
        "id": "bH1p0tw46k-i",
        "outputId": "dc48ba20-9a08-455e-8ce3-8438dc96378b"
      },
      "execution_count": 21,
      "outputs": [
        {
          "output_type": "stream",
          "name": "stdout",
          "text": [
            "accurarcy Score: 0.87656\n",
            "precision Score: 0.8882248968942008\n",
            "Recall Score: 0.9800334323922734\n",
            "F1 Score: 0.9318733718927988\n"
          ]
        }
      ]
    },
    {
      "cell_type": "code",
      "execution_count": 22,
      "metadata": {
        "colab": {
          "base_uri": "https://localhost:8080/"
        },
        "id": "UzX5fsjw4yXz",
        "outputId": "c572de3b-2b47-41a2-80c4-e0bb21ef72b8"
      },
      "outputs": [
        {
          "output_type": "stream",
          "name": "stdout",
          "text": [
            "accurarcy Score: 0.88016\n",
            "precision Score: 0.890875358407826\n",
            "Recall Score: 0.9810549777117384\n",
            "F1 Score: 0.9337929815256784\n"
          ]
        }
      ],
      "source": [
        "print(f'accurarcy Score: {accuracy_score(y_test, y_pred_rfc)}\\nprecision Score: {precision_score(y_test, y_pred_rfc)}\\nRecall Score: {recall_score(y_test, y_pred_rfc)}\\nF1 Score: {f1_score(y_test, y_pred_rfc)}')"
      ]
    },
    {
      "cell_type": "code",
      "source": [
        "print(f'accurarcy Score: {accuracy_score(y_test, y_pred_gb)}\\nprecision Score: {precision_score(y_test, y_pred_gb)}\\nRecall Score: {recall_score(y_test, y_pred_gb)}\\nF1 Score: {f1_score(y_test, y_pred_gb)}')"
      ],
      "metadata": {
        "colab": {
          "base_uri": "https://localhost:8080/"
        },
        "id": "ytq_b9AdCGS1",
        "outputId": "f3501c09-809c-45fb-de93-aa1756ac779f"
      },
      "execution_count": 23,
      "outputs": [
        {
          "output_type": "stream",
          "name": "stdout",
          "text": [
            "accurarcy Score: 0.36448\n",
            "precision Score: 0.98790601243953\n",
            "Recall Score: 0.26550891530460624\n",
            "F1 Score: 0.41853315766359245\n"
          ]
        }
      ]
    },
    {
      "cell_type": "code",
      "source": [
        "#print(f'accurarcy Score: {accuracy_score(y_test, y_pred_mb)}\\nprecision Score: {precision_score(y_test, y_pred_mb)}\\nRecall Score: {recall_score(y_test, y_pred_mb)}\\nF1 Score: {f1_score(y_test, y_pred_mb)}')"
      ],
      "metadata": {
        "id": "I5P_z2mrB8tT"
      },
      "execution_count": 24,
      "outputs": []
    },
    {
      "cell_type": "code",
      "source": [
        "#mb.fit(x_train,y_train)\n",
        "#y_pred_mb = mb.predict(x_test)"
      ],
      "metadata": {
        "id": "M9tR-zK1Apyc"
      },
      "execution_count": 25,
      "outputs": []
    }
  ]
}